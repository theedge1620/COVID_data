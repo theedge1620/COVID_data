{
 "cells": [
  {
   "cell_type": "markdown",
   "metadata": {},
   "source": [
    "### JHU COVID-19 data - Daily and Weekly Confirmed and Deaths Calculation\n",
    "\n",
    "This notebook calculates and appends the daily and weekly (last 7 days) totals for confirmed COVID-19 cases and deaths for the US data provided by the John's Hopkins University Center for Systems Science and Engineering (JHU CSSE).  JHU CSSE posts daily updates to its data to GitHub at:\n",
    "\n",
    "https://github.com/CSSEGISandData/COVID-19\n",
    "\n",
    "The following code assumes you have downloaded the JHU CSSE data and placed this file in a directory directly above the cloned or downloaded repository."
   ]
  },
  {
   "cell_type": "code",
   "execution_count": 1,
   "metadata": {},
   "outputs": [],
   "source": [
    "# Import pandas and read in latest US confirmed and death time history data:\n",
    "\n",
    "import pandas as pd\n",
    "covid_US_confirmed = pd.read_csv(\"./COVID-19/csse_covid_19_data/csse_covid_19_time_series/time_series_covid19_confirmed_US.csv\")\n",
    "covid_US_deaths = pd.read_csv(\"./COVID-19/csse_covid_19_data/csse_covid_19_time_series/time_series_covid19_deaths_US.csv\")"
   ]
  },
  {
   "cell_type": "markdown",
   "metadata": {},
   "source": [
    "#### Calculate daily and weekly totals:\n",
    "\n",
    "The following code calculates the daily and weekly totals for confirmed cases and deaths, since the JHU data always appends the current days date as the last column in their dataset."
   ]
  },
  {
   "cell_type": "code",
   "execution_count": 2,
   "metadata": {},
   "outputs": [],
   "source": [
    "new_cases_US_daily = covid_US_confirmed[covid_US_confirmed.columns[-1]]-covid_US_confirmed[covid_US_confirmed.columns[-2]]\n",
    "new_cases_US_weekly = covid_US_confirmed[covid_US_confirmed.columns[-1]]-covid_US_confirmed[covid_US_confirmed.columns[-8]]\n",
    "new_deaths_US_daily = covid_US_deaths[covid_US_deaths.columns[-1]]-covid_US_deaths[covid_US_deaths.columns[-2]]\n",
    "new_deaths_US_weekly = covid_US_deaths[covid_US_deaths.columns[-1]]-covid_US_deaths[covid_US_deaths.columns[-8]]"
   ]
  },
  {
   "cell_type": "code",
   "execution_count": 3,
   "metadata": {},
   "outputs": [
    {
     "name": "stdout",
     "output_type": "stream",
     "text": [
      "Total new cases in US in last 24 hours:  81493\n",
      "Total new cases in US in last 7 days  :  569350\n",
      "Total new cases in US in last 24 hours:  447\n",
      "Total new cases in US in last 7 days  :  5762\n"
     ]
    }
   ],
   "source": [
    "# Print totals as a check:\n",
    "\n",
    "print('Total new cases in US in last 24 hours:  ' + str(new_cases_US_daily.sum()))\n",
    "print('Total new cases in US in last 7 days  :  ' + str(new_cases_US_weekly.sum()))\n",
    "print('Total new cases in US in last 24 hours:  ' + str(new_deaths_US_daily.sum()))\n",
    "print('Total new cases in US in last 7 days  :  ' + str(new_deaths_US_weekly.sum()))"
   ]
  },
  {
   "cell_type": "code",
   "execution_count": 4,
   "metadata": {},
   "outputs": [],
   "source": [
    "#  Append the new data to the dataframes for confirmed cases and deaths:\n",
    "covid_US_confirmed['New Cases Daily']=new_cases_US_daily\n",
    "covid_US_confirmed['New Cases Weekly']=new_cases_US_weekly\n",
    "covid_US_deaths['New Deaths Daily']=new_deaths_US_daily\n",
    "covid_US_deaths['New Deaths Weekly']=new_deaths_US_weekly"
   ]
  },
  {
   "cell_type": "code",
   "execution_count": 5,
   "metadata": {},
   "outputs": [],
   "source": [
    "# Write the new files to a .csv file that has the calculated fields as the last columns:\n",
    "covid_US_confirmed.to_csv('current_confirmed.csv')\n",
    "covid_US_deaths.to_csv('current_deaths.csv')"
   ]
  }
 ],
 "metadata": {
  "kernelspec": {
   "display_name": "Python 3",
   "language": "python",
   "name": "python3"
  },
  "language_info": {
   "codemirror_mode": {
    "name": "ipython",
    "version": 3
   },
   "file_extension": ".py",
   "mimetype": "text/x-python",
   "name": "python",
   "nbconvert_exporter": "python",
   "pygments_lexer": "ipython3",
   "version": "3.7.4"
  }
 },
 "nbformat": 4,
 "nbformat_minor": 2
}
